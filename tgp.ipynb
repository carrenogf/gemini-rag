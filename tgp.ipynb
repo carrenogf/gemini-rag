{
 "cells": [
  {
   "cell_type": "code",
   "execution_count": 1,
   "metadata": {},
   "outputs": [
    {
     "name": "stdout",
     "output_type": "stream",
     "text": [
      "Uploaded file 'Cicular Conjunta Nº1-2022.pdf' as: https://generativelanguage.googleapis.com/v1beta/files/5p2zuc05lce6\n",
      "Uploaded file 'circular 2022_2 tgp_cgp.pdf' as: https://generativelanguage.googleapis.com/v1beta/files/tfsya8biwbi8\n",
      "Uploaded file 'Circular TGP N 1 - 2023.pdf' as: https://generativelanguage.googleapis.com/v1beta/files/6ip0a7c9v3vt\n",
      "Uploaded file 'Circular TGP N 1 - Acreditaciones en cuenta SGP - Ret. Impositivas.pdf' as: https://generativelanguage.googleapis.com/v1beta/files/bnfygu2zrhk4\n",
      "Uploaded file 'Circular TGP Nº 3 -2022.pdf' as: https://generativelanguage.googleapis.com/v1beta/files/tf62nxznqj70\n",
      "Uploaded file 'COMUNICADO - 2021 - BANCA INTERNET.pdf' as: https://generativelanguage.googleapis.com/v1beta/files/sweglxvgl0dv\n",
      "Uploaded file 'D 1080_3 ME.pdf' as: https://generativelanguage.googleapis.com/v1beta/files/9ie7e2p6mqug\n",
      "Uploaded file 'D-2-3-ME-02012008.pdf' as: https://generativelanguage.googleapis.com/v1beta/files/9m8bt1j4di6e\n",
      "Uploaded file 'D-941-3-ME-16042014.pdf' as: https://generativelanguage.googleapis.com/v1beta/files/8xeo3l6fypiu\n",
      "Uploaded file 'DA 62-3-2021 ORGANIGRAMA TESORERIA.pdf' as: https://generativelanguage.googleapis.com/v1beta/files/6i93zgbmxcg\n",
      "Uploaded file 'Dec.Ac.14_3MEYP.pdf' as: https://generativelanguage.googleapis.com/v1beta/files/skpmy1hpygyp\n",
      "Uploaded file 'Dec.Acu. 8-3-SH-08052006.pdf' as: https://generativelanguage.googleapis.com/v1beta/files/k276uw4pbh3n\n",
      "Uploaded file 'DECRETO 2019_3041-3 .pdf' as: https://generativelanguage.googleapis.com/v1beta/files/rnlsf9680bs7\n",
      "Uploaded file 'DECRETO_674.pdf' as: https://generativelanguage.googleapis.com/v1beta/files/cp91nkbnxpw8\n",
      "Uploaded file 'DN-5-3-ME-17092013.pdf' as: https://generativelanguage.googleapis.com/v1beta/files/5hxbntalyzcm\n",
      "Uploaded file 'funciones de presupuesto.txt' as: https://generativelanguage.googleapis.com/v1beta/files/a804hprb0olu\n",
      "Uploaded file 'ley N 6970  de administracion financiera.pdf' as: https://generativelanguage.googleapis.com/v1beta/files/6bvkofygqgpr\n",
      "Uploaded file 'Resolucion 2019 - 1156-ME.pdf' as: https://generativelanguage.googleapis.com/v1beta/files/yx92oglcgnww\n",
      "Waiting for file processing...\n",
      "...all files ready\n"
     ]
    }
   ],
   "source": [
    "\"\"\"\n",
    "Install the Google AI Python SDK\n",
    "\n",
    "$ pip install google-generativeai\n",
    "\"\"\"\n",
    "\n",
    "import os\n",
    "import time\n",
    "import google.generativeai as genai\n",
    "\n",
    "genai.configure(api_key=\"GOOGLE_API_KEY\")\n",
    "\n",
    "def upload_to_gemini(path, mime_type=None):\n",
    "  \"\"\"Uploads the given file to Gemini.\n",
    "\n",
    "  See https://ai.google.dev/gemini-api/docs/prompting_with_media\n",
    "  \"\"\"\n",
    "  file = genai.upload_file(path, mime_type=mime_type)\n",
    "  print(f\"Uploaded file '{file.display_name}' as: {file.uri}\")\n",
    "  return file\n",
    "\n",
    "def wait_for_files_active(files):\n",
    "  \"\"\"Waits for the given files to be active.\n",
    "\n",
    "  Some files uploaded to the Gemini API need to be processed before they can be\n",
    "  used as prompt inputs. The status can be seen by querying the file's \"state\"\n",
    "  field.\n",
    "\n",
    "  This implementation uses a simple blocking polling loop. Production code\n",
    "  should probably employ a more sophisticated approach.\n",
    "  \"\"\"\n",
    "  print(\"Waiting for file processing...\")\n",
    "  for name in (file.name for file in files):\n",
    "    file = genai.get_file(name)\n",
    "    while file.state.name == \"PROCESSING\":\n",
    "      print(\".\", end=\"\", flush=True)\n",
    "      time.sleep(10)\n",
    "      file = genai.get_file(name)\n",
    "    if file.state.name != \"ACTIVE\":\n",
    "      raise Exception(f\"File {file.name} failed to process\")\n",
    "  print(\"...all files ready\")\n",
    "\n",
    "# Create the model\n",
    "generation_config = {\n",
    "  \"temperature\": 0.5,\n",
    "  \"top_p\": 0.95,\n",
    "  \"top_k\": 64,\n",
    "  \"max_output_tokens\": 8192,\n",
    "  \"response_mime_type\": \"text/plain\",\n",
    "}\n",
    "\n",
    "model = genai.GenerativeModel(\n",
    "  model_name=\"gemini-1.5-flash\",\n",
    "  generation_config=generation_config,\n",
    "  # safety_settings = Adjust safety settings\n",
    "  # See https://ai.google.dev/gemini-api/docs/safety-settings\n",
    ")\n",
    "\n",
    "# TODO Make these files available on the local file system\n",
    "# You may need to update the file paths\n",
    "cwd = os.getcwd()\n",
    "archivos = os.path.join(cwd, \"files\")\n",
    "files = []\n",
    "for file in os.listdir(archivos):\n",
    "  try:\n",
    "    if file.endswith(\".pdf\"):\n",
    "      files.append(upload_to_gemini(os.path.join(archivos, file), mime_type=\"application/pdf\"))\n",
    "    if file.endswith(\".txt\"):\n",
    "      files.append(upload_to_gemini(os.path.join(archivos, file), mime_type=\"text/plain\"))\n",
    "  except Exception as e:\n",
    "    print(f\"Error uploading file {file}: {e}\")\n",
    "\n",
    "# Some files have a processing delay. Wait for them to be ready.\n",
    "wait_for_files_active(files)\n",
    "prompt_inicial = \"Eres un asistente experto en normativa gubernamental de la provincia de tucumán, en base a estos archivos que tienen relación al gobierno de la provincia de tucumán y su administración financiera, contesta mis preguntas intentando ajustarte lo máximo posible al contenido de los mismos\"\n",
    "files.append(prompt_inicial)\n",
    "chat_session = model.start_chat(\n",
    "  history=[\n",
    "    {\n",
    "      \"role\": \"user\",\n",
    "      \"parts\": files,\n",
    "    },\n",
    "    {\n",
    "      \"role\": \"model\",\n",
    "      \"parts\": [\n",
    "        \"¡Claro que sí! Estoy listo para responder a tus preguntas sobre el gobierno de la provincia de Tucumán y su administración financiera, basándome en los archivos que me has proporcionado. \\n\\nPor favor, hazme tus preguntas. 😊 \\n\",\n",
    "      ],\n",
    "    },\n",
    "    ]\n",
    ")\n",
    "\n"
   ]
  },
  {
   "cell_type": "code",
   "execution_count": 2,
   "metadata": {},
   "outputs": [],
   "source": [
    "from IPython.display import Markdown, display\n",
    "\n",
    "def responder(prompt):\n",
    "    response = chat_session.send_message(prompt)\n",
    "    display(Markdown(response.text))"
   ]
  },
  {
   "cell_type": "code",
   "execution_count": 4,
   "metadata": {},
   "outputs": [
    {
     "data": {
      "text/markdown": [
       "La Circular Conjunta Nro. 1 del 2022, emitida por la Tesorería General de la Provincia de Tucumán, se refiere a la **obligación de presentar el Certificado de Cumplimiento Fiscal**, según lo establecido en el artículo Nro. 1 del Decreto Nro. 1531/MH del 2 de julio de 1997. \n",
       "\n",
       "En resumen, la circular indica que:\n",
       "\n",
       "* **Todos los organismos, incluyendo los centralizados, descentralizados y autárquicos**, deben presentar el Certificado de Cumplimiento Fiscal.\n",
       "* La presentación del Certificado debe realizarse **de acuerdo a lo establecido en el artículo Nro. 1 del Decreto Nro. 1531/MH**, que se menciona en la circular. \n",
       "\n",
       "La circular también menciona que la normativa **quedará debidamente notificada a partir de la publicación de la presente, en la página web oficial de la TGP**.\n",
       "\n",
       "¿Te gustaría que buscara información adicional sobre el Decreto Nro. 1531/MH o sobre el Certificado de Cumplimiento Fiscal? \n"
      ],
      "text/plain": [
       "<IPython.core.display.Markdown object>"
      ]
     },
     "metadata": {},
     "output_type": "display_data"
    }
   ],
   "source": [
    "responder(\"que me puedes decir de la circular conjunta nro 1 del 2022\")"
   ]
  },
  {
   "cell_type": "code",
   "execution_count": 3,
   "metadata": {},
   "outputs": [
    {
     "data": {
      "text/markdown": [
       "La Dirección Provincial de Presupuesto, según la Ley de Administración Financiera de la Provincia de Tucumán (Ley 6.970), tiene las siguientes potestades: \n",
       "\n",
       "* **Participar en la formulación de los aspectos presupuestarios de la política financiera que, para el sector público provincial, elabore el órgano coordinador de los sistemas de administración financiera.** Esto implica que la Dirección de Presupuesto tiene que estar involucrada en la planificación financiera del sector público provincial. \n",
       "* **Proponer al órgano coordinador de los sistemas de administración financiera los lineamientos para la elaboración de los presupuestos del sector público provincial.** Es decir, la Dirección de Presupuesto debe proponer las directrices generales para la elaboración de los presupuestos. \n",
       "* **Dictar las normas técnicas para la formulación, programación de la ejecución, modificaciones y evaluación de los presupuestos de la administración provincial.** Esto significa que la Dirección de Presupuesto es la responsable de establecer las reglas y procedimientos para la elaboración, ejecución y seguimiento de los presupuestos. \n",
       "* **Dictar las normas técnicas para la formulación y evaluación de los presupuestos de las empresas y sociedades del Estado.**  La Dirección de Presupuesto también tiene que establecer las normas para la elaboración de los presupuestos de las empresas y sociedades que son propiedad del Estado. \n",
       "* **Analizar los anteproyectos de presupuesto de los organismos que integran la administración provincial y proponer los ajustes que considere necesarios.** La Dirección de Presupuesto tiene que revisar los presupuestos que proponen los organismos del gobierno provincial y sugerir cambios si lo considera necesario. \n",
       "* **Analizar los proyectos de presupuesto de las empresas y sociedades del Estado y presentar los respectivos informes a consideración del Poder Ejecutivo provincial.** La Dirección de Presupuesto debe analizar los presupuestos de las empresas y sociedades del Estado y luego presentar su análisis al Poder Ejecutivo. \n",
       "* **Preparar el proyecto de ley de presupuesto general y fundamentar su contenido.** La Dirección de Presupuesto tiene que elaborar el proyecto de ley de presupuesto y explicar los fundamentos de su contenido. \n",
       "* **Aprobar, juntamente con la Tesorería General de la Provincia, la programación de la ejecución del presupuesto de la administración provincial preparada por las jurisdicciones y entidades que la componen.** La Dirección de Presupuesto debe aprobar, junto con la Tesorería General, la planificación de la ejecución del presupuesto. \n",
       "* **Asesorar, en materia presupuestaria, a todos los organismos del sector público provincial regidos por esta ley y difundir los criterios básicos para un sistema presupuestario compatible a nivel de las municipalidades.** La Dirección de Presupuesto tiene que asesorar a los organismos del gobierno provincial en temas presupuestarios y difundir las mejores prácticas para la elaboración de presupuestos. \n",
       "* **Coordinar los procesos de ejecución presupuestaria de la administración provincial e intervenir en los ajustes y modificaciones a los presupuestos, de acuerdo a las atribuciones que le fije la reglamentación.** La Dirección de Presupuesto debe coordinar la ejecución de los presupuestos y participar en los cambios que se realicen a los mismos. \n",
       "* **Evaluar la ejecución de los presupuestos, aplicando las normas y criterios establecidos por esta ley, su reglamentación y las normas técnicas respectivas.** La Dirección de Presupuesto debe evaluar la ejecución de los presupuestos y asegurarse de que se cumplan las normas y procedimientos establecidos. \n",
       "* **Las demás que le confiera la presente ley y su reglamento.** La Dirección de Presupuesto también tiene las competencias que se establezcan en la ley y su reglamento. \n",
       "\n",
       "Espero que esta información te sea útil. ¡No dudes en hacerme más preguntas! \n"
      ],
      "text/plain": [
       "<IPython.core.display.Markdown object>"
      ]
     },
     "metadata": {},
     "output_type": "display_data"
    }
   ],
   "source": [
    "responder(\"cuales son las potestades de la dirección de presupuesto\")"
   ]
  },
  {
   "cell_type": "code",
   "execution_count": 4,
   "metadata": {},
   "outputs": [
    {
     "data": {
      "text/markdown": [
       "La información que te he dado sobre las potestades de la Dirección Provincial de Presupuesto se encuentra en el **Artículo 16** de la Ley de Administración Financiera de la Provincia de Tucumán (Ley 6.970). \n",
       "\n",
       "En este artículo, se detallan las funciones y competencias de la Dirección Provincial de Presupuesto como órgano rector del sistema presupuestario. \n"
      ],
      "text/plain": [
       "<IPython.core.display.Markdown object>"
      ]
     },
     "metadata": {},
     "output_type": "display_data"
    }
   ],
   "source": [
    "responder(\"en que articulo estás eso?\")"
   ]
  },
  {
   "cell_type": "code",
   "execution_count": null,
   "metadata": {},
   "outputs": [],
   "source": []
  }
 ],
 "metadata": {
  "kernelspec": {
   "display_name": "gemini",
   "language": "python",
   "name": "python3"
  },
  "language_info": {
   "codemirror_mode": {
    "name": "ipython",
    "version": 3
   },
   "file_extension": ".py",
   "mimetype": "text/x-python",
   "name": "python",
   "nbconvert_exporter": "python",
   "pygments_lexer": "ipython3",
   "version": "3.9.13"
  }
 },
 "nbformat": 4,
 "nbformat_minor": 2
}
